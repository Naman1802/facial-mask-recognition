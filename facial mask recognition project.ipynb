{
 "cells": [
  {
   "cell_type": "code",
   "execution_count": 34,
   "metadata": {},
   "outputs": [],
   "source": [
    "import cv2\n",
    "import os\n",
    "import numpy as np\n",
    "import matplotlib.pyplot as plt\n",
    "\n",
    "face_cascade=cv2.CascadeClassifier(\"C:\\\\Users\\\\Naman\\\\Desktop\\\\projects\\\\haarcascade_frontalface_default.xml\")"
   ]
  },
  {
   "cell_type": "markdown",
   "metadata": {},
   "source": [
    "# Loading the data in arrays"
   ]
  },
  {
   "cell_type": "code",
   "execution_count": 35,
   "metadata": {},
   "outputs": [],
   "source": [
    "  #it gives a list of all the folders within the category\n",
    "def load_and_set_data(directory , categories , face_cascade):\n",
    "    data=[]\n",
    "    for cat in categories:\n",
    "        cat_path=directory+\"\\\\\"+cat\n",
    "        for img in os.listdir(cat_path):\n",
    "            try:\n",
    "                img_array=cv2.imread(cat_path+\"\\\\\"+img)\n",
    "                gray=cv2.cvtColor(img_array , cv2.COLOR_BGR2GRAY)\n",
    "                faces=face_cascade.detectMultiScale(gray , 1.3 , 5)\n",
    "                for (x , y , w , h) in faces:\n",
    "                    roi_image=gray[y:y+h , x:x+w]\n",
    "                    new_roi_image=cv2.resize(roi_image , (100 , 100))\n",
    "                    data.append([new_roi_image , cat])\n",
    "            except Exception as e:\n",
    "                pass\n",
    "    return data\n",
    "        \n",
    "#now we have our data and the corresponding target\n",
    "#all the images are gray scale"
   ]
  },
  {
   "cell_type": "code",
   "execution_count": 36,
   "metadata": {},
   "outputs": [],
   "source": [
    "directory=\"C:\\\\Users\\\\Naman\\\\Desktop\\\\projects\\\\Face-Mask-Detection-master\\\\dataset\"  #location of images\n",
    "categories=os.listdir(directory)   #different categories of images\n",
    "data=load_and_set_data(directory , categories , face_cascade)  #loading the data\n"
   ]
  },
  {
   "cell_type": "code",
   "execution_count": 37,
   "metadata": {},
   "outputs": [],
   "source": [
    "import random\n",
    "random.shuffle(data)   #shuffling the data"
   ]
  },
  {
   "cell_type": "code",
   "execution_count": 38,
   "metadata": {},
   "outputs": [],
   "source": [
    "data=np.array(data)"
   ]
  },
  {
   "cell_type": "code",
   "execution_count": 39,
   "metadata": {},
   "outputs": [
    {
     "data": {
      "text/plain": [
       "(878, 2)"
      ]
     },
     "execution_count": 39,
     "metadata": {},
     "output_type": "execute_result"
    }
   ],
   "source": [
    "data.shape"
   ]
  },
  {
   "cell_type": "code",
   "execution_count": 40,
   "metadata": {},
   "outputs": [
    {
     "data": {
      "text/plain": [
       "878"
      ]
     },
     "execution_count": 40,
     "metadata": {},
     "output_type": "execute_result"
    }
   ],
   "source": [
    "len(data)"
   ]
  },
  {
   "cell_type": "markdown",
   "metadata": {},
   "source": [
    "# Developing the model"
   ]
  },
  {
   "cell_type": "code",
   "execution_count": 41,
   "metadata": {},
   "outputs": [],
   "source": [
    "from keras.layers import Conv2D , MaxPooling2D , Flatten , Dense   #importing the different layers\n",
    "from keras.models import Sequential    #importing the model"
   ]
  },
  {
   "cell_type": "code",
   "execution_count": 42,
   "metadata": {},
   "outputs": [],
   "source": [
    "def create_model():   #developing the model by adding different layers\n",
    "    model=Sequential()\n",
    "    model.add(Conv2D(100, (2, 2), strides=(1 , 1)  , activation='relu', padding=\"same\" , input_shape=(100, 100, 1)))\n",
    "    model.add(MaxPooling2D((2, 2)))\n",
    "    model.add(Flatten())\n",
    "    model.add(Dense(100, activation='relu'))\n",
    "    model.add(Dense(1, activation='sigmoid'))\n",
    "    model.compile(optimizer=\"adam\", loss=\"binary_crossentropy\", metrics=['accuracy'])\n",
    "    \n",
    "    return model"
   ]
  },
  {
   "cell_type": "code",
   "execution_count": 43,
   "metadata": {},
   "outputs": [],
   "source": [
    "input_=data[: , 0]\n",
    "target=data[: , 1]"
   ]
  },
  {
   "cell_type": "code",
   "execution_count": 44,
   "metadata": {},
   "outputs": [],
   "source": [
    "for i in range(len(target)):  #converting the label into binary codes\n",
    "    if target[i]==\"with_mask\":\n",
    "        target[i]=1\n",
    "    else:\n",
    "        target[i]=0\n",
    "target=target.astype(np.float32)"
   ]
  },
  {
   "cell_type": "code",
   "execution_count": 45,
   "metadata": {},
   "outputs": [],
   "source": [
    "from  sklearn.model_selection import train_test_split   "
   ]
  },
  {
   "cell_type": "code",
   "execution_count": 46,
   "metadata": {},
   "outputs": [],
   "source": [
    "X_train , X_test , Y_train , Y_test=train_test_split(input_ , target , random_state=1)   #splitting the data"
   ]
  },
  {
   "cell_type": "code",
   "execution_count": 47,
   "metadata": {},
   "outputs": [],
   "source": [
    "X_train_new=[]\n",
    "for i in range(len(X_train)):\n",
    "    X_train_new.append(np.reshape(X_train[i] , (100 , 100 , 1)))   #resizing the input and storing in  the array\n",
    "    \n",
    "X_test_new=[]\n",
    "for i in range(len(X_test)):\n",
    "    X_test_new.append(np.reshape(X_test[i] , (100 , 100 , 1)))     #resizing the input and storing in the array\n",
    "    \n",
    "X_train_new=np.array(X_train_new).astype(np.float32)\n",
    "X_test_new=np.array(X_test_new).astype(np.float32)\n",
    "\n"
   ]
  },
  {
   "cell_type": "code",
   "execution_count": 48,
   "metadata": {},
   "outputs": [],
   "source": [
    "mo=create_model()   #creating the model"
   ]
  },
  {
   "cell_type": "code",
   "execution_count": 49,
   "metadata": {},
   "outputs": [
    {
     "name": "stdout",
     "output_type": "stream",
     "text": [
      "Train on 658 samples, validate on 220 samples\n",
      "Epoch 1/5\n",
      "658/658 [==============================] - 34s 52ms/step - loss: 154.6841 - accuracy: 0.8480 - val_loss: 79.1342 - val_accuracy: 0.8818\n",
      "Epoch 2/5\n",
      "658/658 [==============================] - 33s 50ms/step - loss: 19.6952 - accuracy: 0.9164 - val_loss: 15.5173 - val_accuracy: 0.9000\n",
      "Epoch 3/5\n",
      "658/658 [==============================] - 35s 53ms/step - loss: 3.3705 - accuracy: 0.9559 - val_loss: 9.6601 - val_accuracy: 0.9045\n",
      "Epoch 4/5\n",
      "658/658 [==============================] - 33s 50ms/step - loss: 2.1813 - accuracy: 0.9590 - val_loss: 9.1817 - val_accuracy: 0.8500\n",
      "Epoch 5/5\n",
      "658/658 [==============================] - 33s 50ms/step - loss: 1.6744 - accuracy: 0.9666 - val_loss: 28.7967 - val_accuracy: 0.8909\n"
     ]
    },
    {
     "data": {
      "text/plain": [
       "<keras.callbacks.callbacks.History at 0x23113e2ccc8>"
      ]
     },
     "execution_count": 49,
     "metadata": {},
     "output_type": "execute_result"
    }
   ],
   "source": [
    "mo.fit(X_train_new , Y_train , epochs=5 ,batch_size=10, validation_data=(X_test_new , Y_test))  #fitting the model"
   ]
  },
  {
   "cell_type": "code",
   "execution_count": 50,
   "metadata": {},
   "outputs": [],
   "source": [
    "predictions=mo.predict(X_test_new)  #getting the predictions on testing data"
   ]
  },
  {
   "cell_type": "code",
   "execution_count": 51,
   "metadata": {},
   "outputs": [],
   "source": [
    "real_predictions=[]     #converting the predictions from probabilities to labels\n",
    "for i in range(len(predictions)):\n",
    "    if predictions[i][0]>0.5:\n",
    "        real_predictions.append(1)\n",
    "    else:\n",
    "        real_predictions.append(0)\n",
    "        "
   ]
  },
  {
   "cell_type": "code",
   "execution_count": 52,
   "metadata": {},
   "outputs": [
    {
     "data": {
      "text/plain": [
       "196"
      ]
     },
     "execution_count": 52,
     "metadata": {},
     "output_type": "execute_result"
    }
   ],
   "source": [
    "(real_predictions==Y_test).sum()    #checking the number of correct predictions"
   ]
  },
  {
   "cell_type": "code",
   "execution_count": 53,
   "metadata": {},
   "outputs": [],
   "source": [
    "#feeding data through webcam\n",
    "def webcam_input():\n",
    "    font=cv2.FONT_HERSHEY_SIMPLEX  #giving the font through\n",
    "    cap=cv2.VideoCapture(0)     #creating an object for video capture\n",
    "    while True:\n",
    "        ret , image=cap.read()\n",
    "        gray=cv2.cvtColor(image , cv2.COLOR_BGR2GRAY)   #converting the image to gray scale for easier computation\n",
    "        \n",
    "        faces=face_cascade.detectMultiScale(gray , 1.3 , 5)    #function used to detect faces\n",
    "        for (x , y , w , h) in faces:\n",
    "            roi_image=gray[y:y+h , x:x+w]      #gray image with face\n",
    "            roi_image=cv2.resize(roi_image , (100 , 100))  #resizing it\n",
    "            new_image=np.resize(roi_image , (1 , 100 , 100 , 1))\n",
    "            ans=mo.predict(new_image)     #getting the prediction whether the person is wearing mask or not\n",
    "            if ans[0]==1:\n",
    "                cv2.rectangle(image , (x , y) , (x+w , y+h) , (0 , 0 , 255) , 2) #making the rectangle aroud the face\n",
    "                lb=\"with_mask\"     #getting the label \n",
    "            else:\n",
    "                cv2.rectangle(image , (x , y) , (x+w , y+h) , (0 , 255 , 0) , 2)  #making the rectangle around the face\n",
    "                lb=\"without_mask\"   #getting the label\n",
    "            cv2.putText(image ,lb , (x+w//2 , y+h) , font , 1 , (255 , 0 , 0) , 2 , cv2.LINE_AA)  #putting the label\n",
    "        cv2.imshow(\"ans\" , image)    #showing the output on screen\n",
    "        if cv2.waitKey(1) & 0xFF==ord('q'):   #using q as key to quit\n",
    "            break\n",
    "    cap.release()\n",
    "    cv2.destroyAllWindows()\n",
    "      \n",
    "            "
   ]
  },
  {
   "cell_type": "code",
   "execution_count": 54,
   "metadata": {},
   "outputs": [],
   "source": [
    "webcam_input()"
   ]
  },
  {
   "cell_type": "code",
   "execution_count": null,
   "metadata": {},
   "outputs": [],
   "source": []
  }
 ],
 "metadata": {
  "kernelspec": {
   "display_name": "Python 3",
   "language": "python",
   "name": "python3"
  },
  "language_info": {
   "codemirror_mode": {
    "name": "ipython",
    "version": 3
   },
   "file_extension": ".py",
   "mimetype": "text/x-python",
   "name": "python",
   "nbconvert_exporter": "python",
   "pygments_lexer": "ipython3",
   "version": "3.7.4"
  }
 },
 "nbformat": 4,
 "nbformat_minor": 2
}
